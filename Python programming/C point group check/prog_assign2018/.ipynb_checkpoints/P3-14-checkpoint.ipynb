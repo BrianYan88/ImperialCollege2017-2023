{
 "cells": [
  {
   "cell_type": "code",
   "execution_count": null,
   "metadata": {},
   "outputs": [
    {
     "name": "stdout",
     "output_type": "stream",
     "text": [
      "Populating the interactive namespace from numpy and matplotlib\n",
      "Red pixel data r.csv\n",
      "Green pixel data g.csv\n",
      "Blue pixel data b.csv\n"
     ]
    }
   ],
   "source": [
    "%pylab qt\n",
    "import numpy as np\n",
    "import matplotlib.pyplot as plt\n",
    "from scipy.misc import electrocardiogram\n",
    "from scipy.signal import find_peaks\n",
    "if __name__==\"__main__\":\n",
    "    file=input(\"Red pixel data \")\n",
    "    red=loadtxt(file,delimiter=',')\n",
    "    \n",
    "    file=input(\"Green pixel data \")\n",
    "    green=loadtxt(file,delimiter=',')\n",
    "    \n",
    "    file=input(\"Blue pixel data \")\n",
    "    blue=loadtxt(file,delimiter=',')\n",
    "    superposition=red+green+blue\n",
    "    pixelrowno=int(round(len(superposition)/2))\n",
    "    \n",
    "    xaxis=linspace(1,len(superposition[0]),len(superposition[0]))\n",
    "    peaks, _ = find_peaks(superposition[pixelrowno], height=0)\n",
    "    peaksno = [\"%.2f\" % x for x in peaks]\n",
    "    \n",
    "    figure(figsize(30,16))\n",
    "    plot(xaxis,superposition[pixelrowno])\n",
    "    plt.plot(peaks, superposition[pixelrowno][peaks], \"x\")\n",
    "    for i,type in enumerate(peaksno):\n",
    "        x=peaks[i]\n",
    "        y=superposition[pixelrowno][peaks][i]\n",
    "        plt.text(x + 1 , y + 1, type, fontsize=20)\n",
    "    xlabel('Pixel row coordinate',fontsize=16)\n",
    "    ylabel('Amplitude',fontsize=16)\n",
    "    \n",
    "    show(block=True)\n",
    "    \n",
    "    superposition[pixelrowno][peaks]\n",
    "    \n",
    "    calibrationpixel = []\n",
    "    calibrationwavelength = []\n",
    "    \n",
    "    \n",
    "    for i in numpy.arange(len(peaks)):\n",
    "        wavelength = input('Pixel coordinate ' + peaksno[i] + ' wavelength in nm?' + ' (Press ENTER to skip)')\n",
    "        if wavelength == \"0\" or wavelength == \"\":\n",
    "            pass\n",
    "        else :\n",
    "            calibrationpixel = calibrationpixel + [peaks[i]]\n",
    "            calibrationwavelength = calibrationwavelength + [float(wavelength)]\n",
    "    calibrationdata = [calibrationpixel] + [calibrationwavelength]\n",
    "    \n",
    "    params = polyfit(calibrationdata[0],calibrationdata[1],2)\n",
    "    x2=params[0]\n",
    "    x=params[1]\n",
    "    c=params[2]\n",
    "    fittedlinex = linspace(calibrationdata[0][0],calibrationdata[0][-1],100)\n",
    "    fittedliney = []\n",
    "    for i in fittedlinex:\n",
    "        fittedliney = fittedliney + [x2*i**2 + x*i + c]\n",
    "        \n",
    "    figure(figsize(30,16))\n",
    "    plot(calibrationdata[0],calibrationdata[1],label = 'Identified wavelengths')\n",
    "    plot(fittedlinex, fittedliney, '--', c = 'r',label = 'Extrapolated curve')\n",
    "    legend(fontsize=20) \n",
    "    xlabel('Pixel number',fontsize=16)\n",
    "    ylabel('Wavelength',fontsize=16)"
   ]
  },
  {
   "cell_type": "raw",
   "metadata": {},
   "source": [
    "show?\n",
    "    "
   ]
  },
  {
   "cell_type": "code",
   "execution_count": null,
   "metadata": {},
   "outputs": [],
   "source": []
  }
 ],
 "metadata": {
  "kernelspec": {
   "display_name": "Python 3",
   "language": "python",
   "name": "python3"
  },
  "language_info": {
   "codemirror_mode": {
    "name": "ipython",
    "version": 3
   },
   "file_extension": ".py",
   "mimetype": "text/x-python",
   "name": "python",
   "nbconvert_exporter": "python",
   "pygments_lexer": "ipython3",
   "version": "3.7.3"
  }
 },
 "nbformat": 4,
 "nbformat_minor": 2
}
