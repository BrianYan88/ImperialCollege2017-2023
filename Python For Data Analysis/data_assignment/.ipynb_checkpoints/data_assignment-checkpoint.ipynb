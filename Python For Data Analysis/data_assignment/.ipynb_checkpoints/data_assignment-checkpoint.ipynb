{
 "cells": [
  {
   "cell_type": "markdown",
   "metadata": {},
   "source": [
    "# Python for Data Analysis - Assignment"
   ]
  },
  {
   "cell_type": "markdown",
   "metadata": {},
   "source": [
    "**Submit to Blackboard before Friday, 12th of January at 18:00**\n",
    "\n",
    "**4 marks are attainable, corresponding to 20% of the course grade**"
   ]
  },
  {
   "cell_type": "markdown",
   "metadata": {},
   "source": [
    "In this exercise you should do a linear fit to a set of data written on a text file.\n",
    "\n",
    "Accompanying this notebook is the file *data_gen.py* containing the function *get_data()* which will generate your personalized data based on your College ID (CID) number. To generate your data run the following lines where you should remove the leading zeros on the left of your CID number.\n",
    "\n",
    "    from data_gen import get_data\n",
    "    get_data(yourCID)"
   ]
  },
  {
   "cell_type": "code",
   "execution_count": 7,
   "metadata": {},
   "outputs": [],
   "source": [
    "from data_gen import get_data\n",
    "data=get_data(1352784)"
   ]
  },
  {
   "cell_type": "markdown",
   "metadata": {},
   "source": [
    "The function *get_data()* will generate the file data_*yourCID*.dat with the data on which to perform the fit.\n",
    "\n",
    "You should define 4 distinct variables:\n",
    "\n",
    "* A variable called **data** where the first column is the x coordinate values and the second column the y coordinate values. *(1 mark)*\n",
    "* Two variables called **slope_array** and **intercept_array**. Each of these variables should be an array of 2 elements. The first value of each array should be the value of the slope and the intercept parameters obtained from the fit. The second element should be the uncertainty associated with each of the parameters. *(2 marks)*\n",
    "* The variable **residuals** should be a one dimensional array with the value of the residuals for each data point. *(1 mark)*\n",
    "\n",
    "Note: It is important that you define your variables with the names defined above, as your solution will be tested by checking the value of those variables."
   ]
  },
  {
   "cell_type": "markdown",
   "metadata": {},
   "source": [
    "## You can work out your solution below this line"
   ]
  },
  {
   "cell_type": "code",
   "execution_count": 11,
   "metadata": {},
   "outputs": [
    {
     "name": "stdout",
     "output_type": "stream",
     "text": [
      "Populating the interactive namespace from numpy and matplotlib\n"
     ]
    }
   ],
   "source": [
    "%pylab inline"
   ]
  },
  {
   "cell_type": "code",
   "execution_count": 16,
   "metadata": {},
   "outputs": [],
   "source": [
    "data=loadtxt('data_1352784.dat')\n",
    "dx=data[:,0]\n",
    "dy=data[:,1]"
   ]
  },
  {
   "cell_type": "code",
   "execution_count": 19,
   "metadata": {},
   "outputs": [
    {
     "data": {
      "image/png": "[encoded data removed]",
      "text/plain": [
       "<matplotlib.figure.Figure at 0x881ce48>"
      ]
     },
     "metadata": {},
     "output_type": "display_data"
    }
   ],
   "source": [
    "plot(dx,dy,linestyle='',marker='o')\n",
    "show()"
   ]
  },
  {
   "cell_type": "code",
   "execution_count": 26,
   "metadata": {},
   "outputs": [],
   "source": [
    "c_o=polyfit(dx,dy,deg=1,cov=True)\n",
    "params=c_o[0]\n",
    "params_cov=c_o[1]"
   ]
  },
  {
   "cell_type": "code",
   "execution_count": 28,
   "metadata": {},
   "outputs": [
    {
     "name": "stdout",
     "output_type": "stream",
     "text": [
      "[ 2.71517377  0.34948226]\n",
      "[ 3.01390275  0.93558606]\n"
     ]
    }
   ],
   "source": [
    "slope_array=array([params[0],params_cov[0,0]**0.5])\n",
    "intercept_array=array([params[1],params_cov[1,1]**0.5])\n",
    "print(slope_array)\n",
    "print(intercept_array)"
   ]
  },
  {
   "cell_type": "code",
   "execution_count": 29,
   "metadata": {
    "collapsed": true
   },
   "outputs": [],
   "source": [
    "fitted=params[0]*dx+params[1]\n",
    "residuals=dy-fitted"
   ]
  },
  {
   "cell_type": "code",
   "execution_count": 30,
   "metadata": {},
   "outputs": [
    {
     "name": "stdout",
     "output_type": "stream",
     "text": [
      "[-0.43803529 -1.48377801  1.29807364  0.20923197  0.50946116  0.0700929\n",
      "  0.87271782 -0.14269413  0.31019173 -1.2052618 ]\n"
     ]
    }
   ],
   "source": [
    "print(residuals)"
   ]
  },
  {
   "cell_type": "code",
   "execution_count": null,
   "metadata": {
    "collapsed": true
   },
   "outputs": [],
   "source": []
  }
 ],
 "metadata": {
  "kernelspec": {
   "display_name": "Python 3",
   "language": "python",
   "name": "python3"
  },
  "language_info": {
   "codemirror_mode": {
    "name": "ipython",
    "version": 3
   },
   "file_extension": ".py",
   "mimetype": "text/x-python",
   "name": "python",
   "nbconvert_exporter": "python",
   "pygments_lexer": "ipython3",
   "version": "3.6.1"
  }
 },
 "nbformat": 4,
 "nbformat_minor": 1
}
